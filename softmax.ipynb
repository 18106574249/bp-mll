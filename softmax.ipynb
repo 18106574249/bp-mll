{
 "cells": [
  {
   "cell_type": "code",
   "execution_count": 21,
   "metadata": {
    "collapsed": true
   },
   "outputs": [],
   "source": [
    "import numpy as np\n",
    "import tensorflow as tf\n",
    "import math"
   ]
  },
  {
   "cell_type": "code",
   "execution_count": 53,
   "metadata": {
    "collapsed": true
   },
   "outputs": [],
   "source": [
    "def make_index(y):\n",
    "    one_result = []\n",
    "    zero_result = []\n",
    "    len_of_x_data = len(y)\n",
    "    for i in y:\n",
    "        one_result.append(np.where(i ==1.0)[0])\n",
    "        zero_result.append(np.where(i==0.0)[0])\n",
    "    return one_result,zero_result\n",
    "\n",
    "def select_index_data_of_output(output,index_list):\n",
    "    data_value_list = []\n",
    "    for i in range(len(index_list)):\n",
    "        data_value_list.append([])\n",
    "        cnt = 0\n",
    "        data_value_list[i].append([])\n",
    "        for k in range(len(index_list[i][0])):\n",
    "            \n",
    "            data_value_list[i][cnt].append(output[:,k])\n",
    "        cnt +=1\n",
    "        data_value_list[i].append([])\n",
    "        for j in range(len(index_list[i][1])):\n",
    "            data_value_list[i][cnt].append(output[:,j])\n",
    "    return data_value_list\n",
    "\n",
    "def make_cartesian_list(x):\n",
    "    cartesian_list = []\n",
    "    yi_length = []\n",
    "    nyi_length = []\n",
    "    for i in range(len(x)):\n",
    "        yi_length.append(len(x[i][0]))\n",
    "        nyi_length.append(len(x[i][1]))\n",
    "        cartesian_list.append([])\n",
    "        for j in x[i][0]:\n",
    "            for k in x[i][1]:\n",
    "                cartesian_list[i].append([j,k])\n",
    "    return cartesian_list,yi_length,nyi_length\n",
    "\n",
    "def bp_mll_exp_function(cartesian_list_instance):\n",
    "    return tf.exp(cartesian_list_instance[1]-cartesian_list_instance[0])\n",
    "\n",
    "def get_error(cartesian_list):\n",
    "    global_error = 0\n",
    "    cnt = 0\n",
    "    for docu in cartesian_list[0]:\n",
    "        for instance in docu:\n",
    "            global_error += 1/cartesian_list[1][cnt]*cartesian_list[2][cnt]* bp_mll_exp_function(instance)\n",
    "    return global_error"
   ]
  },
  {
   "cell_type": "code",
   "execution_count": 54,
   "metadata": {
    "collapsed": true
   },
   "outputs": [],
   "source": [
    "x_data = np.array([[0.1,0.9,0.1],[0.9,0.1,0.1]],dtype='float32')\n",
    "y_data = np.array([[0.0,1.0,0.0],[1.0,0.0,0.0]],dtype='float32')"
   ]
  },
  {
   "cell_type": "code",
   "execution_count": 94,
   "metadata": {
    "collapsed": false
   },
   "outputs": [
    {
     "name": "stdout",
     "output_type": "stream",
     "text": [
      "[[ 0.3484309   0.36040413  0.29116502]\n",
      " [ 0.39279279  0.39225549  0.21495169]]\n",
      "[[ 0.35438699  0.35439232  0.29122072]\n",
      " [ 0.39252558  0.3925209   0.21495353]]\n",
      "[[ 0.35438699  0.35439232  0.29122072]\n",
      " [ 0.39252558  0.3925209   0.21495353]]\n",
      "[[ 0.35438699  0.35439232  0.29122072]\n",
      " [ 0.39252558  0.3925209   0.21495353]]\n",
      "[[ 0.35438699  0.35439232  0.29122072]\n",
      " [ 0.39252558  0.3925209   0.21495353]]\n",
      "[[ 0.35438699  0.35439232  0.29122072]\n",
      " [ 0.39252558  0.3925209   0.21495353]]\n",
      "[[ 0.35438699  0.35439232  0.29122072]\n",
      " [ 0.39252558  0.3925209   0.21495353]]\n",
      "[[ 0.35438699  0.35439232  0.29122072]\n",
      " [ 0.39252558  0.3925209   0.21495353]]\n",
      "[[ 0.35438699  0.35439232  0.29122072]\n",
      " [ 0.39252558  0.3925209   0.21495353]]\n",
      "[[ 0.35438699  0.35439232  0.29122072]\n",
      " [ 0.39252558  0.3925209   0.21495353]]\n"
     ]
    }
   ],
   "source": [
    "# Load data\n",
    "\n",
    "# Graph input\n",
    "X = tf.placeholder(\"float\", [2,3] )\n",
    "# Model weight\n",
    "W = tf.Variable(tf.random_uniform([3,3],-1.0,1.0))\n",
    "\n",
    "# Construct model\n",
    "\n",
    "hypothesis = tf.nn.softmax(tf.nn.relu(tf.matmul(X,W)))\n",
    "y_data_index = make_index(y_data)\n",
    "x_data_index_value = select_index_data_of_output(hypothesis,y_data_index)\n",
    "cartesian_list= make_cartesian_list(x_data_index_value)\n",
    "cost=get_error(cartesian_list)\n",
    "\n",
    "a = tf.Variable(0.01)\n",
    "optimizer = tf.train.GradientDescentOptimizer(a)\n",
    "train = optimizer.minimize(cost)\n",
    "\n",
    "init = tf.initialize_all_variables()\n",
    "\n",
    "with tf.Session() as sess:\n",
    "    sess.run(init)\n",
    "    for step in range(100000):\n",
    "        sess.run(train,feed_dict={X:x_data})\n",
    "        if step %10000 == 0:\n",
    "        \n",
    "            print(sess.run(hypothesis,feed_dict={X:x_data}))\n",
    "        \n",
    "        \n",
    "        "
   ]
  },
  {
   "cell_type": "code",
   "execution_count": 83,
   "metadata": {
    "collapsed": false
   },
   "outputs": [
    {
     "name": "stdout",
     "output_type": "stream",
     "text": [
      "<bound method Tensor.eval of <tf.Tensor 'Softmax_39:0' shape=(2, 3) dtype=float32>>\n"
     ]
    }
   ],
   "source": [
    "print(hypothesis.eval)"
   ]
  },
  {
   "cell_type": "code",
   "execution_count": null,
   "metadata": {
    "collapsed": true
   },
   "outputs": [],
   "source": []
  },
  {
   "cell_type": "code",
   "execution_count": null,
   "metadata": {
    "collapsed": true
   },
   "outputs": [],
   "source": []
  }
 ],
 "metadata": {
  "anaconda-cloud": {},
  "kernelspec": {
   "display_name": "Python [conda env:ml_python]",
   "language": "python",
   "name": "conda-env-ml_python-py"
  },
  "language_info": {
   "codemirror_mode": {
    "name": "ipython",
    "version": 3
   },
   "file_extension": ".py",
   "mimetype": "text/x-python",
   "name": "python",
   "nbconvert_exporter": "python",
   "pygments_lexer": "ipython3",
   "version": "3.5.2"
  }
 },
 "nbformat": 4,
 "nbformat_minor": 1
}
